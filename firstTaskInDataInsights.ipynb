{
 "cells": [
  {
   "cell_type": "markdown",
   "id": "7e4e8aaf",
   "metadata": {},
   "source": [
    "# Count character occurrences in a given word, phrase or sentence\n",
    "we will count how many times an  character appears in a **word** or a **phrase** or a **sentaence**\n",
    "\n",
    "## There is many ways to count occurrences of a character I will introduce some of them \n",
    "1. for loop\n",
    "2. count()\n",
    "3. regular expression\n",
    "4. pandas libarary\n"
   ]
  },
  {
   "cell_type": "markdown",
   "id": "1b5dc5ac",
   "metadata": {},
   "source": [
    "## For loop\n",
    "using for loop is a good way to count number of occurence of a charachter in a word or sectence\n"
   ]
  },
  {
   "cell_type": "code",
   "execution_count": 38,
   "id": "91aa4402",
   "metadata": {},
   "outputs": [
    {
     "name": "stdout",
     "output_type": "stream",
     "text": [
      "Enter your word Working From home is good\n",
      "Enter Your character i\n",
      "Your character i is found 2 Times\n"
     ]
    }
   ],
   "source": [
    "def countWord(word):\n",
    "    count = 0\n",
    "    for i in word:\n",
    "        if i == charToCount:\n",
    "            count = count + 1\n",
    "    print(\"Your character \" + charToCount + \" is found \" + str(count) + \" Times\")\n",
    "word = input('Enter your word ')\n",
    "charToCount = input('Enter Your character ')\n",
    "countWord(word)"
   ]
  },
  {
   "cell_type": "markdown",
   "id": "2fa2afba",
   "metadata": {},
   "source": [
    "# count()\n",
    "\n",
    "using count function can help you , it will return how many times this characher is found in this string or sentence\n"
   ]
  },
  {
   "cell_type": "code",
   "execution_count": 34,
   "id": "cd3c6c72",
   "metadata": {},
   "outputs": [
    {
     "name": "stdout",
     "output_type": "stream",
     "text": [
      "Enter your word Working From home is good\n",
      "Enter Your character i\n",
      "Your character i is found 2 Times\n"
     ]
    }
   ],
   "source": [
    "# Count character occurrences in a given word, phrase or sentence\n",
    "def countWord(word):\n",
    "    print(\"Your character \" + charToCount + \" is found \" + str(word.count(charToCount))+ \" Times\")\n",
    "    \n",
    "word = input('Enter your word ')\n",
    "charToCount = input('Enter Your character ')\n",
    "countWord(word)\n"
   ]
  },
  {
   "cell_type": "markdown",
   "id": "0b6ac595",
   "metadata": {},
   "source": [
    "## Regular Expression\n",
    "regular expression is a way to search in a string and make matching and by matching you can use many function such as **find()** , **findall()** and **search()**\n",
    "in regular expression you need to import its libarary which called **re** "
   ]
  },
  {
   "cell_type": "code",
   "execution_count": 37,
   "id": "3db2fb90",
   "metadata": {},
   "outputs": [
    {
     "name": "stdout",
     "output_type": "stream",
     "text": [
      "Enter your word  Working From home is good\n",
      "Enter Your character i\n",
      "Your character i is found 2 Times\n"
     ]
    }
   ],
   "source": [
    "import re\n",
    "def countWord(word):\n",
    "    print(\"Your character \" + charToCount + \" is found \" + str(len(re.findall(charToCount, word))) +\" Times\")\n",
    "word = input('Enter your word ')\n",
    "charToCount = input('Enter Your character ')\n",
    "countWord(word)"
   ]
  },
  {
   "cell_type": "markdown",
   "id": "69756972",
   "metadata": {},
   "source": [
    "## Pandas Library\n",
    "There is a function in pandas called **value_counts** by it \n",
    "It will count every charachter count in a new line .\n",
    "You need to  pass string as a series object and you need to import pandas  \n",
    "\n",
    "\n"
   ]
  },
  {
   "cell_type": "code",
   "execution_count": 39,
   "id": "0340972a",
   "metadata": {},
   "outputs": [
    {
     "name": "stdout",
     "output_type": "stream",
     "text": [
      "Enter your word Working From home is good\n",
      "o    5\n",
      "     4\n",
      "r    2\n",
      "i    2\n",
      "g    2\n",
      "m    2\n",
      "W    1\n",
      "k    1\n",
      "n    1\n",
      "F    1\n",
      "h    1\n",
      "e    1\n",
      "s    1\n",
      "d    1\n",
      "dtype: int64\n"
     ]
    }
   ],
   "source": [
    "import pandas as pd\n",
    "def countWord(word):\n",
    "    print(pd.Series(list(word)).value_counts())\n",
    "word = input('Enter your word ')\n",
    "countWord(word)"
   ]
  },
  {
   "cell_type": "code",
   "execution_count": null,
   "id": "b87c7ffd",
   "metadata": {},
   "outputs": [],
   "source": []
  }
 ],
 "metadata": {
  "kernelspec": {
   "display_name": "Python 3 (ipykernel)",
   "language": "python",
   "name": "python3"
  },
  "language_info": {
   "codemirror_mode": {
    "name": "ipython",
    "version": 3
   },
   "file_extension": ".py",
   "mimetype": "text/x-python",
   "name": "python",
   "nbconvert_exporter": "python",
   "pygments_lexer": "ipython3",
   "version": "3.9.7"
  }
 },
 "nbformat": 4,
 "nbformat_minor": 5
}
